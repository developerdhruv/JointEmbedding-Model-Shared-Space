{
 "cells": [
  {
   "cell_type": "code",
   "execution_count": 1,
   "id": "ffb5fa8b-a785-489e-9fa8-614c9617cf42",
   "metadata": {},
   "outputs": [
    {
     "name": "stdout",
     "output_type": "stream",
     "text": [
      "Looking in indexes: https://download.pytorch.org/whl/cu118\n",
      "Collecting torch\n",
      "  Using cached https://download.pytorch.org/whl/cu118/torch-2.3.1%2Bcu118-cp38-cp38-win_amd64.whl (2673.1 MB)\n",
      "Collecting torchvision\n",
      "  Using cached https://download.pytorch.org/whl/cu118/torchvision-0.18.1%2Bcu118-cp38-cp38-win_amd64.whl (4.9 MB)\n",
      "Collecting torchaudio\n",
      "  Using cached https://download.pytorch.org/whl/cu118/torchaudio-2.3.1%2Bcu118-cp38-cp38-win_amd64.whl (4.0 MB)\n",
      "Collecting filelock (from torch)\n",
      "  Using cached https://download.pytorch.org/whl/filelock-3.13.1-py3-none-any.whl (11 kB)\n",
      "Requirement already satisfied: typing-extensions>=4.8.0 in f:\\annaconda\\envs\\multimodal\\lib\\site-packages (from torch) (4.11.0)\n",
      "Collecting sympy (from torch)\n",
      "  Using cached https://download.pytorch.org/whl/sympy-1.12-py3-none-any.whl (5.7 MB)\n",
      "Collecting networkx (from torch)\n",
      "  Using cached https://download.pytorch.org/whl/networkx-3.2.1-py3-none-any.whl (1.6 MB)\n",
      "Requirement already satisfied: jinja2 in f:\\annaconda\\envs\\multimodal\\lib\\site-packages (from torch) (3.1.4)\n",
      "Collecting fsspec (from torch)\n",
      "  Using cached https://download.pytorch.org/whl/fsspec-2024.2.0-py3-none-any.whl (170 kB)\n",
      "Collecting mkl<=2021.4.0,>=2021.1.1 (from torch)\n",
      "  Using cached https://download.pytorch.org/whl/mkl-2021.4.0-py2.py3-none-win_amd64.whl (228.5 MB)\n",
      "Collecting numpy (from torchvision)\n",
      "  Downloading https://download.pytorch.org/whl/numpy-1.24.1-cp38-cp38-win_amd64.whl (14.9 MB)\n",
      "     ---------------------------------------- 0.0/14.9 MB ? eta -:--:--\n",
      "     --------- ----------------------------- 3.6/14.9 MB 117.3 MB/s eta 0:00:01\n",
      "     ---------------------- ----------------- 8.4/14.9 MB 90.7 MB/s eta 0:00:01\n",
      "     --------------------------------- ----- 12.7/14.9 MB 93.9 MB/s eta 0:00:01\n",
      "     --------------------------------------- 14.9/14.9 MB 72.5 MB/s eta 0:00:00\n",
      "Collecting pillow!=8.3.*,>=5.3.0 (from torchvision)\n",
      "  Downloading https://download.pytorch.org/whl/pillow-10.2.0-cp38-cp38-win_amd64.whl (2.6 MB)\n",
      "     ---------------------------------------- 0.0/2.6 MB ? eta -:--:--\n",
      "     --- ------------------------------------ 0.3/2.6 MB ? eta -:--:--\n",
      "     --- ------------------------------------ 0.3/2.6 MB ? eta -:--:--\n",
      "     -------- ------------------------------- 0.5/2.6 MB 4.8 MB/s eta 0:00:01\n",
      "     -------- ------------------------------- 0.5/2.6 MB 4.8 MB/s eta 0:00:01\n",
      "     ------------ --------------------------- 0.8/2.6 MB 4.3 MB/s eta 0:00:01\n",
      "     ------------ --------------------------- 0.8/2.6 MB 4.3 MB/s eta 0:00:01\n",
      "     ---------------- ----------------------- 1.1/2.6 MB 3.8 MB/s eta 0:00:01\n",
      "     ----------------- ---------------------- 1.1/2.6 MB 3.0 MB/s eta 0:00:01\n",
      "     -------------------- ------------------- 1.4/2.6 MB 3.6 MB/s eta 0:00:01\n",
      "     -------------------- ------------------- 1.4/2.6 MB 3.6 MB/s eta 0:00:01\n",
      "     ------------------------- -------------- 1.6/2.6 MB 3.4 MB/s eta 0:00:01\n",
      "     ------------------------- -------------- 1.6/2.6 MB 3.4 MB/s eta 0:00:01\n",
      "     ------------------------- -------------- 1.6/2.6 MB 3.4 MB/s eta 0:00:01\n",
      "     ----------------------------- ---------- 1.9/2.6 MB 3.1 MB/s eta 0:00:01\n",
      "     ----------------------------- ---------- 1.9/2.6 MB 3.1 MB/s eta 0:00:01\n",
      "     ----------------------------- ---------- 1.9/2.6 MB 3.1 MB/s eta 0:00:01\n",
      "     --------------------------------- ------ 2.2/2.6 MB 2.9 MB/s eta 0:00:01\n",
      "     --------------------------------- ------ 2.2/2.6 MB 2.9 MB/s eta 0:00:01\n",
      "     ------------------------------------ --- 2.4/2.6 MB 2.7 MB/s eta 0:00:01\n",
      "     ------------------------------------- -- 2.5/2.6 MB 2.7 MB/s eta 0:00:01\n",
      "     ---------------------------------------- 2.6/2.6 MB 2.7 MB/s eta 0:00:00\n",
      "Collecting intel-openmp==2021.* (from mkl<=2021.4.0,>=2021.1.1->torch)\n",
      "  Using cached https://download.pytorch.org/whl/intel_openmp-2021.4.0-py2.py3-none-win_amd64.whl (3.5 MB)\n",
      "Collecting tbb==2021.* (from mkl<=2021.4.0,>=2021.1.1->torch)\n",
      "  Using cached https://download.pytorch.org/whl/tbb-2021.11.0-py3-none-win_amd64.whl (298 kB)\n",
      "Requirement already satisfied: MarkupSafe>=2.0 in f:\\annaconda\\envs\\multimodal\\lib\\site-packages (from jinja2->torch) (2.1.3)\n",
      "INFO: pip is looking at multiple versions of networkx to determine which version is compatible with other requirements. This could take a while.\n",
      "Collecting networkx (from torch)\n",
      "  Downloading https://download.pytorch.org/whl/networkx-3.0-py3-none-any.whl (2.0 MB)\n",
      "     ---------------------------------------- 0.0/2.0 MB ? eta -:--:--\n",
      "     ---------------------------------------- 2.0/2.0 MB 127.1 MB/s eta 0:00:00\n",
      "Collecting mpmath>=0.19 (from sympy->torch)\n",
      "  Using cached https://download.pytorch.org/whl/mpmath-1.3.0-py3-none-any.whl (536 kB)\n",
      "Installing collected packages: tbb, mpmath, intel-openmp, sympy, pillow, numpy, networkx, mkl, fsspec, filelock, torch, torchvision, torchaudio\n",
      "Successfully installed filelock-3.13.1 fsspec-2024.2.0 intel-openmp-2021.4.0 mkl-2021.4.0 mpmath-1.3.0 networkx-3.0 numpy-1.24.1 pillow-10.2.0 sympy-1.12 tbb-2021.11.0 torch-2.3.1+cu118 torchaudio-2.3.1+cu118 torchvision-0.18.1+cu118\n",
      "Note: you may need to restart the kernel to use updated packages.\n"
     ]
    }
   ],
   "source": [
    "pip install torch torchvision torchaudio --index-url https://download.pytorch.org/whl/cu118"
   ]
  },
  {
   "cell_type": "code",
   "execution_count": 2,
   "id": "c0717113-e49d-4565-8d93-78ff2caa440c",
   "metadata": {},
   "outputs": [
    {
     "data": {
      "text/plain": [
       "True"
      ]
     },
     "execution_count": 2,
     "metadata": {},
     "output_type": "execute_result"
    }
   ],
   "source": [
    "import torch\n",
    "torch.cuda.is_available()"
   ]
  },
  {
   "cell_type": "code",
   "execution_count": 3,
   "id": "cacb7cef-77f8-48fe-9070-abb26b3e6cad",
   "metadata": {},
   "outputs": [
    {
     "name": "stdout",
     "output_type": "stream",
     "text": [
      "Collecting tiktoken\n",
      "  Using cached tiktoken-0.7.0-cp38-cp38-win_amd64.whl.metadata (6.8 kB)\n",
      "Collecting openl3\n",
      "  Using cached openl3-0.4.2-py2.py3-none-any.whl\n",
      "Collecting soundfile\n",
      "  Using cached soundfile-0.12.1-py2.py3-none-win_amd64.whl.metadata (14 kB)\n",
      "Collecting regex>=2022.1.18 (from tiktoken)\n",
      "  Using cached regex-2024.5.15-cp38-cp38-win_amd64.whl.metadata (41 kB)\n",
      "Requirement already satisfied: requests>=2.26.0 in f:\\annaconda\\envs\\multimodal\\lib\\site-packages (from tiktoken) (2.32.2)\n",
      "Collecting tensorflow>=2.0.0 (from openl3)\n",
      "  Using cached tensorflow-2.13.1-cp38-cp38-win_amd64.whl.metadata (2.6 kB)\n",
      "Requirement already satisfied: numpy>=1.13.0 in f:\\annaconda\\envs\\multimodal\\lib\\site-packages (from openl3) (1.24.1)\n",
      "Collecting scipy>=0.19.1 (from openl3)\n",
      "  Using cached scipy-1.10.1-cp38-cp38-win_amd64.whl.metadata (58 kB)\n",
      "Collecting kapre>=0.3.5 (from openl3)\n",
      "  Using cached kapre-0.3.7-py3-none-any.whl\n",
      "Collecting resampy<0.3.0,>=0.2.1 (from openl3)\n",
      "  Using cached resampy-0.2.2-py3-none-any.whl\n",
      "Collecting h5py>=2.7.0 (from openl3)\n",
      "  Using cached h5py-3.11.0-cp38-cp38-win_amd64.whl.metadata (2.5 kB)\n",
      "Collecting moviepy>=1.0.0 (from openl3)\n",
      "  Using cached moviepy-1.0.3-py3-none-any.whl\n",
      "Collecting scikit-image>=0.14.3 (from openl3)\n",
      "  Using cached scikit_image-0.21.0-cp38-cp38-win_amd64.whl.metadata (14 kB)\n",
      "Collecting librosa>=0.7.2 (from openl3)\n",
      "  Using cached librosa-0.10.2.post1-py3-none-any.whl.metadata (8.6 kB)\n",
      "Requirement already satisfied: cffi>=1.0 in f:\\annaconda\\envs\\multimodal\\lib\\site-packages (from soundfile) (1.16.0)\n",
      "Requirement already satisfied: pycparser in f:\\annaconda\\envs\\multimodal\\lib\\site-packages (from cffi>=1.0->soundfile) (2.21)\n",
      "Collecting audioread>=2.1.9 (from librosa>=0.7.2->openl3)\n",
      "  Using cached audioread-3.0.1-py3-none-any.whl.metadata (8.4 kB)\n",
      "Collecting scikit-learn>=0.20.0 (from librosa>=0.7.2->openl3)\n",
      "  Using cached scikit_learn-1.3.2-cp38-cp38-win_amd64.whl.metadata (11 kB)\n",
      "Collecting joblib>=0.14 (from librosa>=0.7.2->openl3)\n",
      "  Using cached joblib-1.4.2-py3-none-any.whl.metadata (5.4 kB)\n",
      "Requirement already satisfied: decorator>=4.3.0 in f:\\annaconda\\envs\\multimodal\\lib\\site-packages (from librosa>=0.7.2->openl3) (5.1.1)\n",
      "Collecting numba>=0.51.0 (from librosa>=0.7.2->openl3)\n",
      "  Using cached numba-0.58.1-cp38-cp38-win_amd64.whl.metadata (2.8 kB)\n",
      "Collecting pooch>=1.1 (from librosa>=0.7.2->openl3)\n",
      "  Using cached pooch-1.8.2-py3-none-any.whl.metadata (10 kB)\n",
      "Collecting soxr>=0.3.2 (from librosa>=0.7.2->openl3)\n",
      "  Using cached soxr-0.3.7-cp38-cp38-win_amd64.whl.metadata (5.7 kB)\n",
      "Requirement already satisfied: typing-extensions>=4.1.1 in f:\\annaconda\\envs\\multimodal\\lib\\site-packages (from librosa>=0.7.2->openl3) (4.11.0)\n",
      "Collecting lazy-loader>=0.1 (from librosa>=0.7.2->openl3)\n",
      "  Using cached lazy_loader-0.4-py3-none-any.whl.metadata (7.6 kB)\n",
      "Collecting msgpack>=1.0 (from librosa>=0.7.2->openl3)\n",
      "  Using cached msgpack-1.0.8-cp38-cp38-win_amd64.whl.metadata (9.4 kB)\n",
      "Collecting decorator>=4.3.0 (from librosa>=0.7.2->openl3)\n",
      "  Using cached decorator-4.4.2-py2.py3-none-any.whl.metadata (4.2 kB)\n",
      "Collecting tqdm<5.0,>=4.11.2 (from moviepy>=1.0.0->openl3)\n",
      "  Using cached tqdm-4.66.4-py3-none-any.whl.metadata (57 kB)\n",
      "Collecting proglog<=1.0.0 (from moviepy>=1.0.0->openl3)\n",
      "  Using cached proglog-0.1.10-py3-none-any.whl.metadata (639 bytes)\n",
      "Collecting imageio<3.0,>=2.5 (from moviepy>=1.0.0->openl3)\n",
      "  Using cached imageio-2.34.2-py3-none-any.whl.metadata (4.9 kB)\n",
      "Collecting imageio-ffmpeg>=0.2.0 (from moviepy>=1.0.0->openl3)\n",
      "  Using cached imageio_ffmpeg-0.5.1-py3-none-win_amd64.whl.metadata (1.6 kB)\n",
      "Requirement already satisfied: charset-normalizer<4,>=2 in f:\\annaconda\\envs\\multimodal\\lib\\site-packages (from requests>=2.26.0->tiktoken) (2.0.4)\n",
      "Requirement already satisfied: idna<4,>=2.5 in f:\\annaconda\\envs\\multimodal\\lib\\site-packages (from requests>=2.26.0->tiktoken) (3.7)\n",
      "Requirement already satisfied: urllib3<3,>=1.21.1 in f:\\annaconda\\envs\\multimodal\\lib\\site-packages (from requests>=2.26.0->tiktoken) (2.2.2)\n",
      "Requirement already satisfied: certifi>=2017.4.17 in f:\\annaconda\\envs\\multimodal\\lib\\site-packages (from requests>=2.26.0->tiktoken) (2024.7.4)\n",
      "Requirement already satisfied: six>=1.3 in f:\\annaconda\\envs\\multimodal\\lib\\site-packages (from resampy<0.3.0,>=0.2.1->openl3) (1.16.0)\n",
      "Requirement already satisfied: networkx>=2.8 in f:\\annaconda\\envs\\multimodal\\lib\\site-packages (from scikit-image>=0.14.3->openl3) (3.0)\n",
      "Requirement already satisfied: pillow>=9.0.1 in f:\\annaconda\\envs\\multimodal\\lib\\site-packages (from scikit-image>=0.14.3->openl3) (10.2.0)\n",
      "Collecting tifffile>=2022.8.12 (from scikit-image>=0.14.3->openl3)\n",
      "  Using cached tifffile-2023.7.10-py3-none-any.whl.metadata (31 kB)\n",
      "Collecting PyWavelets>=1.1.1 (from scikit-image>=0.14.3->openl3)\n",
      "  Using cached PyWavelets-1.4.1-cp38-cp38-win_amd64.whl.metadata (1.9 kB)\n",
      "Requirement already satisfied: packaging>=21 in f:\\annaconda\\envs\\multimodal\\lib\\site-packages (from scikit-image>=0.14.3->openl3) (24.1)\n",
      "INFO: pip is looking at multiple versions of tensorflow to determine which version is compatible with other requirements. This could take a while.\n",
      "Collecting tensorflow>=2.0.0 (from openl3)\n",
      "  Using cached tensorflow-2.13.0-cp38-cp38-win_amd64.whl.metadata (2.6 kB)\n",
      "Collecting tensorflow-intel==2.13.0 (from tensorflow>=2.0.0->openl3)\n",
      "  Using cached tensorflow_intel-2.13.0-cp38-cp38-win_amd64.whl.metadata (4.1 kB)\n",
      "Collecting absl-py>=1.0.0 (from tensorflow-intel==2.13.0->tensorflow>=2.0.0->openl3)\n",
      "  Using cached absl_py-2.1.0-py3-none-any.whl.metadata (2.3 kB)\n",
      "Collecting astunparse>=1.6.0 (from tensorflow-intel==2.13.0->tensorflow>=2.0.0->openl3)\n",
      "  Using cached astunparse-1.6.3-py2.py3-none-any.whl.metadata (4.4 kB)\n",
      "Collecting flatbuffers>=23.1.21 (from tensorflow-intel==2.13.0->tensorflow>=2.0.0->openl3)\n",
      "  Using cached flatbuffers-24.3.25-py2.py3-none-any.whl.metadata (850 bytes)\n",
      "Collecting gast<=0.4.0,>=0.2.1 (from tensorflow-intel==2.13.0->tensorflow>=2.0.0->openl3)\n",
      "  Using cached gast-0.4.0-py3-none-any.whl.metadata (1.1 kB)\n",
      "Collecting google-pasta>=0.1.1 (from tensorflow-intel==2.13.0->tensorflow>=2.0.0->openl3)\n",
      "  Using cached google_pasta-0.2.0-py3-none-any.whl.metadata (814 bytes)\n",
      "Collecting libclang>=13.0.0 (from tensorflow-intel==2.13.0->tensorflow>=2.0.0->openl3)\n",
      "  Using cached libclang-18.1.1-py2.py3-none-win_amd64.whl.metadata (5.3 kB)\n",
      "Collecting opt-einsum>=2.3.2 (from tensorflow-intel==2.13.0->tensorflow>=2.0.0->openl3)\n",
      "  Using cached opt_einsum-3.3.0-py3-none-any.whl.metadata (6.5 kB)\n",
      "Collecting protobuf!=4.21.0,!=4.21.1,!=4.21.2,!=4.21.3,!=4.21.4,!=4.21.5,<5.0.0dev,>=3.20.3 (from tensorflow-intel==2.13.0->tensorflow>=2.0.0->openl3)\n",
      "  Using cached protobuf-4.25.3-cp38-cp38-win_amd64.whl.metadata (541 bytes)\n",
      "Requirement already satisfied: setuptools in f:\\annaconda\\envs\\multimodal\\lib\\site-packages (from tensorflow-intel==2.13.0->tensorflow>=2.0.0->openl3) (69.5.1)\n",
      "Collecting termcolor>=1.1.0 (from tensorflow-intel==2.13.0->tensorflow>=2.0.0->openl3)\n",
      "  Using cached termcolor-2.4.0-py3-none-any.whl.metadata (6.1 kB)\n",
      "Collecting typing-extensions>=4.1.1 (from librosa>=0.7.2->openl3)\n",
      "  Using cached typing_extensions-4.5.0-py3-none-any.whl.metadata (8.5 kB)\n",
      "Collecting wrapt>=1.11.0 (from tensorflow-intel==2.13.0->tensorflow>=2.0.0->openl3)\n",
      "  Using cached wrapt-1.16.0-cp38-cp38-win_amd64.whl.metadata (6.8 kB)\n",
      "Collecting grpcio<2.0,>=1.24.3 (from tensorflow-intel==2.13.0->tensorflow>=2.0.0->openl3)\n",
      "  Using cached grpcio-1.64.1-cp38-cp38-win_amd64.whl.metadata (3.4 kB)\n",
      "Collecting tensorboard<2.14,>=2.13 (from tensorflow-intel==2.13.0->tensorflow>=2.0.0->openl3)\n",
      "  Using cached tensorboard-2.13.0-py3-none-any.whl.metadata (1.8 kB)\n",
      "Collecting tensorflow-estimator<2.14,>=2.13.0 (from tensorflow-intel==2.13.0->tensorflow>=2.0.0->openl3)\n",
      "  Using cached tensorflow_estimator-2.13.0-py2.py3-none-any.whl.metadata (1.3 kB)\n",
      "Collecting keras<2.14,>=2.13.1 (from tensorflow-intel==2.13.0->tensorflow>=2.0.0->openl3)\n",
      "  Using cached keras-2.13.1-py3-none-any.whl.metadata (2.4 kB)\n",
      "Collecting tensorflow-io-gcs-filesystem>=0.23.1 (from tensorflow-intel==2.13.0->tensorflow>=2.0.0->openl3)\n",
      "  Using cached tensorflow_io_gcs_filesystem-0.31.0-cp38-cp38-win_amd64.whl.metadata (14 kB)\n",
      "Collecting llvmlite<0.42,>=0.41.0dev0 (from numba>=0.51.0->librosa>=0.7.2->openl3)\n",
      "  Using cached llvmlite-0.41.1-cp38-cp38-win_amd64.whl.metadata (4.9 kB)\n",
      "Requirement already satisfied: importlib-metadata in f:\\annaconda\\envs\\multimodal\\lib\\site-packages (from numba>=0.51.0->librosa>=0.7.2->openl3) (7.0.1)\n",
      "Requirement already satisfied: platformdirs>=2.5.0 in f:\\annaconda\\envs\\multimodal\\lib\\site-packages (from pooch>=1.1->librosa>=0.7.2->openl3) (3.10.0)\n",
      "Collecting threadpoolctl>=2.0.0 (from scikit-learn>=0.20.0->librosa>=0.7.2->openl3)\n",
      "  Using cached threadpoolctl-3.5.0-py3-none-any.whl.metadata (13 kB)\n",
      "Requirement already satisfied: colorama in f:\\annaconda\\envs\\multimodal\\lib\\site-packages (from tqdm<5.0,>=4.11.2->moviepy>=1.0.0->openl3) (0.4.6)\n",
      "Requirement already satisfied: wheel<1.0,>=0.23.0 in f:\\annaconda\\envs\\multimodal\\lib\\site-packages (from astunparse>=1.6.0->tensorflow-intel==2.13.0->tensorflow>=2.0.0->openl3) (0.43.0)\n",
      "Collecting google-auth<3,>=1.6.3 (from tensorboard<2.14,>=2.13->tensorflow-intel==2.13.0->tensorflow>=2.0.0->openl3)\n",
      "  Using cached google_auth-2.32.0-py2.py3-none-any.whl.metadata (4.7 kB)\n",
      "Collecting google-auth-oauthlib<1.1,>=0.5 (from tensorboard<2.14,>=2.13->tensorflow-intel==2.13.0->tensorflow>=2.0.0->openl3)\n",
      "  Using cached google_auth_oauthlib-1.0.0-py2.py3-none-any.whl.metadata (2.7 kB)\n",
      "Collecting markdown>=2.6.8 (from tensorboard<2.14,>=2.13->tensorflow-intel==2.13.0->tensorflow>=2.0.0->openl3)\n",
      "  Using cached Markdown-3.6-py3-none-any.whl.metadata (7.0 kB)\n",
      "Collecting tensorboard-data-server<0.8.0,>=0.7.0 (from tensorboard<2.14,>=2.13->tensorflow-intel==2.13.0->tensorflow>=2.0.0->openl3)\n",
      "  Using cached tensorboard_data_server-0.7.2-py3-none-any.whl.metadata (1.1 kB)\n",
      "Collecting werkzeug>=1.0.1 (from tensorboard<2.14,>=2.13->tensorflow-intel==2.13.0->tensorflow>=2.0.0->openl3)\n",
      "  Using cached werkzeug-3.0.3-py3-none-any.whl.metadata (3.7 kB)\n",
      "Requirement already satisfied: zipp>=0.5 in f:\\annaconda\\envs\\multimodal\\lib\\site-packages (from importlib-metadata->numba>=0.51.0->librosa>=0.7.2->openl3) (3.17.0)\n",
      "Collecting cachetools<6.0,>=2.0.0 (from google-auth<3,>=1.6.3->tensorboard<2.14,>=2.13->tensorflow-intel==2.13.0->tensorflow>=2.0.0->openl3)\n",
      "  Downloading cachetools-5.4.0-py3-none-any.whl.metadata (5.3 kB)\n",
      "Collecting pyasn1-modules>=0.2.1 (from google-auth<3,>=1.6.3->tensorboard<2.14,>=2.13->tensorflow-intel==2.13.0->tensorflow>=2.0.0->openl3)\n",
      "  Using cached pyasn1_modules-0.4.0-py3-none-any.whl.metadata (3.4 kB)\n",
      "Collecting rsa<5,>=3.1.4 (from google-auth<3,>=1.6.3->tensorboard<2.14,>=2.13->tensorflow-intel==2.13.0->tensorflow>=2.0.0->openl3)\n",
      "  Using cached rsa-4.9-py3-none-any.whl.metadata (4.2 kB)\n",
      "Collecting requests-oauthlib>=0.7.0 (from google-auth-oauthlib<1.1,>=0.5->tensorboard<2.14,>=2.13->tensorflow-intel==2.13.0->tensorflow>=2.0.0->openl3)\n",
      "  Using cached requests_oauthlib-2.0.0-py2.py3-none-any.whl.metadata (11 kB)\n",
      "Requirement already satisfied: MarkupSafe>=2.1.1 in f:\\annaconda\\envs\\multimodal\\lib\\site-packages (from werkzeug>=1.0.1->tensorboard<2.14,>=2.13->tensorflow-intel==2.13.0->tensorflow>=2.0.0->openl3) (2.1.3)\n",
      "Collecting pyasn1<0.7.0,>=0.4.6 (from pyasn1-modules>=0.2.1->google-auth<3,>=1.6.3->tensorboard<2.14,>=2.13->tensorflow-intel==2.13.0->tensorflow>=2.0.0->openl3)\n",
      "  Using cached pyasn1-0.6.0-py2.py3-none-any.whl.metadata (8.3 kB)\n",
      "Collecting oauthlib>=3.0.0 (from requests-oauthlib>=0.7.0->google-auth-oauthlib<1.1,>=0.5->tensorboard<2.14,>=2.13->tensorflow-intel==2.13.0->tensorflow>=2.0.0->openl3)\n",
      "  Using cached oauthlib-3.2.2-py3-none-any.whl.metadata (7.5 kB)\n",
      "Using cached tiktoken-0.7.0-cp38-cp38-win_amd64.whl (798 kB)\n",
      "Using cached soundfile-0.12.1-py2.py3-none-win_amd64.whl (1.0 MB)\n",
      "Using cached h5py-3.11.0-cp38-cp38-win_amd64.whl (3.0 MB)\n",
      "Using cached librosa-0.10.2.post1-py3-none-any.whl (260 kB)\n",
      "Using cached regex-2024.5.15-cp38-cp38-win_amd64.whl (268 kB)\n",
      "Using cached scikit_image-0.21.0-cp38-cp38-win_amd64.whl (22.7 MB)\n",
      "Using cached scipy-1.10.1-cp38-cp38-win_amd64.whl (42.2 MB)\n",
      "Using cached tensorflow-2.13.0-cp38-cp38-win_amd64.whl (1.9 kB)\n",
      "Using cached tensorflow_intel-2.13.0-cp38-cp38-win_amd64.whl (276.5 MB)\n",
      "Using cached audioread-3.0.1-py3-none-any.whl (23 kB)\n",
      "Using cached decorator-4.4.2-py2.py3-none-any.whl (9.2 kB)\n",
      "Using cached imageio-2.34.2-py3-none-any.whl (313 kB)\n",
      "Using cached imageio_ffmpeg-0.5.1-py3-none-win_amd64.whl (22.6 MB)\n",
      "Using cached joblib-1.4.2-py3-none-any.whl (301 kB)\n",
      "Using cached lazy_loader-0.4-py3-none-any.whl (12 kB)\n",
      "Using cached msgpack-1.0.8-cp38-cp38-win_amd64.whl (75 kB)\n",
      "Using cached numba-0.58.1-cp38-cp38-win_amd64.whl (2.6 MB)\n",
      "Using cached pooch-1.8.2-py3-none-any.whl (64 kB)\n",
      "Using cached proglog-0.1.10-py3-none-any.whl (6.1 kB)\n",
      "Using cached PyWavelets-1.4.1-cp38-cp38-win_amd64.whl (4.2 MB)\n",
      "Using cached scikit_learn-1.3.2-cp38-cp38-win_amd64.whl (9.3 MB)\n",
      "Using cached soxr-0.3.7-cp38-cp38-win_amd64.whl (184 kB)\n",
      "Using cached tifffile-2023.7.10-py3-none-any.whl (220 kB)\n",
      "Using cached tqdm-4.66.4-py3-none-any.whl (78 kB)\n",
      "Using cached typing_extensions-4.5.0-py3-none-any.whl (27 kB)\n",
      "Using cached absl_py-2.1.0-py3-none-any.whl (133 kB)\n",
      "Using cached astunparse-1.6.3-py2.py3-none-any.whl (12 kB)\n",
      "Using cached flatbuffers-24.3.25-py2.py3-none-any.whl (26 kB)\n",
      "Using cached gast-0.4.0-py3-none-any.whl (9.8 kB)\n",
      "Using cached google_pasta-0.2.0-py3-none-any.whl (57 kB)\n",
      "Using cached grpcio-1.64.1-cp38-cp38-win_amd64.whl (4.1 MB)\n",
      "Using cached keras-2.13.1-py3-none-any.whl (1.7 MB)\n",
      "Using cached libclang-18.1.1-py2.py3-none-win_amd64.whl (26.4 MB)\n",
      "Using cached llvmlite-0.41.1-cp38-cp38-win_amd64.whl (28.1 MB)\n",
      "Using cached opt_einsum-3.3.0-py3-none-any.whl (65 kB)\n",
      "Using cached protobuf-4.25.3-cp38-cp38-win_amd64.whl (413 kB)\n",
      "Using cached tensorboard-2.13.0-py3-none-any.whl (5.6 MB)\n",
      "Using cached tensorflow_estimator-2.13.0-py2.py3-none-any.whl (440 kB)\n",
      "Using cached tensorflow_io_gcs_filesystem-0.31.0-cp38-cp38-win_amd64.whl (1.5 MB)\n",
      "Using cached termcolor-2.4.0-py3-none-any.whl (7.7 kB)\n",
      "Using cached threadpoolctl-3.5.0-py3-none-any.whl (18 kB)\n",
      "Using cached wrapt-1.16.0-cp38-cp38-win_amd64.whl (37 kB)\n",
      "Using cached google_auth-2.32.0-py2.py3-none-any.whl (195 kB)\n",
      "Using cached google_auth_oauthlib-1.0.0-py2.py3-none-any.whl (18 kB)\n",
      "Using cached Markdown-3.6-py3-none-any.whl (105 kB)\n",
      "Using cached tensorboard_data_server-0.7.2-py3-none-any.whl (2.4 kB)\n",
      "Using cached werkzeug-3.0.3-py3-none-any.whl (227 kB)\n",
      "Downloading cachetools-5.4.0-py3-none-any.whl (9.5 kB)\n",
      "Using cached pyasn1_modules-0.4.0-py3-none-any.whl (181 kB)\n",
      "Using cached requests_oauthlib-2.0.0-py2.py3-none-any.whl (24 kB)\n",
      "Using cached rsa-4.9-py3-none-any.whl (34 kB)\n",
      "Using cached oauthlib-3.2.2-py3-none-any.whl (151 kB)\n",
      "Using cached pyasn1-0.6.0-py2.py3-none-any.whl (85 kB)\n",
      "Installing collected packages: libclang, flatbuffers, wrapt, werkzeug, typing-extensions, tqdm, tifffile, threadpoolctl, termcolor, tensorflow-io-gcs-filesystem, tensorflow-estimator, tensorboard-data-server, soxr, scipy, regex, PyWavelets, pyasn1, protobuf, opt-einsum, oauthlib, msgpack, llvmlite, lazy-loader, keras, joblib, imageio-ffmpeg, imageio, h5py, grpcio, google-pasta, gast, decorator, cachetools, audioread, astunparse, absl-py, tiktoken, soundfile, scikit-learn, scikit-image, rsa, requests-oauthlib, pyasn1-modules, proglog, pooch, numba, markdown, resampy, moviepy, librosa, google-auth, google-auth-oauthlib, tensorboard, tensorflow-intel, tensorflow, kapre, openl3\n",
      "  Attempting uninstall: typing-extensions\n",
      "    Found existing installation: typing_extensions 4.11.0\n",
      "    Uninstalling typing_extensions-4.11.0:\n",
      "      Successfully uninstalled typing_extensions-4.11.0\n",
      "  Attempting uninstall: decorator\n",
      "    Found existing installation: decorator 5.1.1\n",
      "    Uninstalling decorator-5.1.1:\n",
      "      Successfully uninstalled decorator-5.1.1\n",
      "Successfully installed PyWavelets-1.4.1 absl-py-2.1.0 astunparse-1.6.3 audioread-3.0.1 cachetools-5.4.0 decorator-4.4.2 flatbuffers-24.3.25 gast-0.4.0 google-auth-2.32.0 google-auth-oauthlib-1.0.0 google-pasta-0.2.0 grpcio-1.64.1 h5py-3.11.0 imageio-2.34.2 imageio-ffmpeg-0.5.1 joblib-1.4.2 kapre-0.3.7 keras-2.13.1 lazy-loader-0.4 libclang-18.1.1 librosa-0.10.2.post1 llvmlite-0.41.1 markdown-3.6 moviepy-1.0.3 msgpack-1.0.8 numba-0.58.1 oauthlib-3.2.2 openl3-0.4.2 opt-einsum-3.3.0 pooch-1.8.2 proglog-0.1.10 protobuf-4.25.3 pyasn1-0.6.0 pyasn1-modules-0.4.0 regex-2024.5.15 requests-oauthlib-2.0.0 resampy-0.2.2 rsa-4.9 scikit-image-0.21.0 scikit-learn-1.3.2 scipy-1.10.1 soundfile-0.12.1 soxr-0.3.7 tensorboard-2.13.0 tensorboard-data-server-0.7.2 tensorflow-2.13.0 tensorflow-estimator-2.13.0 tensorflow-intel-2.13.0 tensorflow-io-gcs-filesystem-0.31.0 termcolor-2.4.0 threadpoolctl-3.5.0 tifffile-2023.7.10 tiktoken-0.7.0 tqdm-4.66.4 typing-extensions-4.5.0 werkzeug-3.0.3 wrapt-1.16.0\n"
     ]
    },
    {
     "name": "stderr",
     "output_type": "stream",
     "text": [
      "ERROR: pip's dependency resolver does not currently take into account all the packages that are installed. This behaviour is the source of the following dependency conflicts.\n",
      "torch 2.3.1+cu118 requires typing-extensions>=4.8.0, but you have typing-extensions 4.5.0 which is incompatible.\n"
     ]
    }
   ],
   "source": [
    "!pip install tiktoken  openl3  soundfile"
   ]
  },
  {
   "cell_type": "code",
   "execution_count": 36,
   "id": "0d13f20f-d061-4f4e-ad34-202db6871f9b",
   "metadata": {},
   "outputs": [],
   "source": [
    "import torch\n",
    "import torch.nn as nn\n",
    "import torch.nn.functional as F"
   ]
  },
  {
   "cell_type": "code",
   "execution_count": 37,
   "id": "33597609-0d26-4fce-a27d-58285824ab3c",
   "metadata": {},
   "outputs": [],
   "source": [
    "import openl3\n",
    "import soundfile\n",
    "\n",
    "class AudioEncoder():\n",
    "    def __init__(self) -> None:\n",
    "        self.audio_encoder_model = openl3.models.load_audio_embedding_model(input_repr=\"mel256\", content_type=\"music\",\n",
    "                                                                            embedding_size=6144)\n",
    "    def encode(self, audio_path):\n",
    "        audio, sr = soundfile.read(audio_path)\n",
    "        embeddings,timestamps = openl3.get_audio_embedding(audio, sr, model=self.audio_encoder_model)\n",
    "        return torch.tensor(embeddings, dtype=torch.float32)\n",
    "    \n"
   ]
  },
  {
   "cell_type": "code",
   "execution_count": 38,
   "id": "ba1f984c-491f-4a93-94d3-0368376fa619",
   "metadata": {},
   "outputs": [],
   "source": [
    "import tiktoken\n",
    "\n",
    "class TextTokenizer: \n",
    "    def __init__(self) -> None:\n",
    "        self.encodermodel = tiktoken.get_encoding(\"cl100k_base\")\n",
    "        \n",
    "    def encode(self , text):\n",
    "        tokentext =self.encodermodel.encode(text)\n",
    "        return torch.tensor(tokentext, dtype=torch.float32)\n"
   ]
  },
  {
   "cell_type": "code",
   "execution_count": 39,
   "id": "0aeb2daf-a96a-4cde-9678-eb053693aa7c",
   "metadata": {},
   "outputs": [],
   "source": [
    "class JointEmbeddingModel(nn.Module):\n",
    "    def __init__(self, audio_embed_dim, text_embed_dim, shared_embed_dim):\n",
    "        super(JointEmbeddingModel, self).__init__()\n",
    "        self.audio_fc = nn.Linear(audio_embed_dim, shared_embed_dim)\n",
    "        self.text_fc = nn.Linear(text_embed_dim, shared_embed_dim)\n",
    "    \n",
    "    def forward(self, audio_embedding, text_embedding):\n",
    "        audio_shared = self.audio_fc(audio_embedding)\n",
    "        text_shared = self.text_fc(text_embedding)\n",
    "        return audio_shared, text_shared\n",
    "\n",
    "    def compute_loss(self, audio_shared, text_shared):\n",
    "        \n",
    "        positive_pair_dist = F.pairwise_distance(audio_shared, text_shared)\n",
    "        negative_pair_dist = F.pairwise_distance(audio_shared, torch.roll(text_shared, shifts=1, dims=0))\n",
    "        margin = 1.0  \n",
    "        loss = torch.mean(positive_pair_dist) + torch.mean(F.relu(margin - negative_pair_dist))\n",
    "        return loss\n"
   ]
  },
  {
   "cell_type": "code",
   "execution_count": 40,
   "id": "e84ff4d4-0793-4189-b1d4-8e38437ba856",
   "metadata": {},
   "outputs": [],
   "source": [
    "text_tokenizer = TextTokenizer()\n",
    "audio_encoder = AudioEncoder()"
   ]
  },
  {
   "cell_type": "code",
   "execution_count": 41,
   "id": "3ecdae1a-f927-4d9b-9a95-c866be26c0cd",
   "metadata": {},
   "outputs": [],
   "source": [
    "sample_text = \"Hello My name is Dhruv\"\n",
    "sample_audio_path = \"test_file.wav\""
   ]
  },
  {
   "cell_type": "code",
   "execution_count": 42,
   "id": "af0c91d6-cf35-4714-972a-490a542643c9",
   "metadata": {},
   "outputs": [
    {
     "name": "stdout",
     "output_type": "stream",
     "text": [
      "54/54 [==============================] - 104s 2s/step\n",
      "Text Embedding Shape: torch.Size([7])\n",
      "Audio Embedding Shape: torch.Size([1701, 6144])\n"
     ]
    }
   ],
   "source": [
    "text_embedding = text_tokenizer.encode(sample_text)\n",
    "audio_embedding = audio_encoder.encode(sample_audio_path)\n",
    "print(\"Text Embedding Shape:\", text_embedding.shape)\n",
    "print(\"Audio Embedding Shape:\", audio_embedding.shape)"
   ]
  },
  {
   "cell_type": "code",
   "execution_count": 43,
   "id": "96fb5c83-1235-48db-93ab-76d8c6ef0407",
   "metadata": {},
   "outputs": [],
   "source": [
    "audio_embed_dim = audio_embedding.shape[-1]  \n",
    "text_embed_dim = text_embedding.shape[-1]    \n",
    "shared_embed_dim = 256"
   ]
  },
  {
   "cell_type": "code",
   "execution_count": 44,
   "id": "5892da7c-0714-4773-a5d8-cb3ab863bacb",
   "metadata": {},
   "outputs": [
    {
     "name": "stdout",
     "output_type": "stream",
     "text": [
      "JointEmbeddingModel(\n",
      "  (audio_fc): Linear(in_features=6144, out_features=256, bias=True)\n",
      "  (text_fc): Linear(in_features=7, out_features=256, bias=True)\n",
      ")\n"
     ]
    }
   ],
   "source": [
    "model = JointEmbeddingModel(audio_embed_dim, text_embed_dim, shared_embed_dim)\n",
    "print(model)"
   ]
  },
  {
   "cell_type": "code",
   "execution_count": 45,
   "id": "7b14eb45-4793-45bd-b70d-cc4efa8ea523",
   "metadata": {},
   "outputs": [],
   "source": [
    "audio_shared, text_shared = model(audio_embedding, text_embedding)\n",
    "loss = model.compute_loss(audio_shared, text_shared)"
   ]
  },
  {
   "cell_type": "code",
   "execution_count": 46,
   "id": "e441fba4-8db2-452c-9d13-9560fa3d8a81",
   "metadata": {},
   "outputs": [
    {
     "name": "stdout",
     "output_type": "stream",
     "text": [
      "Audio Shared Embedding Shape: torch.Size([1701, 256])\n",
      "Text Shared Embedding Shape: torch.Size([256])\n",
      "Loss: 153423.375\n"
     ]
    }
   ],
   "source": [
    "print(\"Audio Shared Embedding Shape:\", audio_shared.shape)\n",
    "print(\"Text Shared Embedding Shape:\", text_shared.shape)\n",
    "print(\"Loss:\", loss.item())"
   ]
  },
  {
   "cell_type": "code",
   "execution_count": null,
   "id": "9058dec4-92fa-4cfc-8432-4310432cf306",
   "metadata": {},
   "outputs": [],
   "source": []
  }
 ],
 "metadata": {
  "kernelspec": {
   "display_name": "Python 3 (ipykernel)",
   "language": "python",
   "name": "python3"
  },
  "language_info": {
   "codemirror_mode": {
    "name": "ipython",
    "version": 3
   },
   "file_extension": ".py",
   "mimetype": "text/x-python",
   "name": "python",
   "nbconvert_exporter": "python",
   "pygments_lexer": "ipython3",
   "version": "3.8.19"
  }
 },
 "nbformat": 4,
 "nbformat_minor": 5
}
